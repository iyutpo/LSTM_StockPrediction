{
 "cells": [
  {
   "cell_type": "code",
   "execution_count": null,
   "metadata": {
    "colab": {
     "base_uri": "https://localhost:8080/",
     "height": 104
    },
    "id": "NKTP5NRSAW4J",
    "outputId": "7dd3636b-a8b5-49f9-8a23-af299bd4e7f8"
   },
   "outputs": [
    {
     "name": "stdout",
     "output_type": "stream",
     "text": [
      "OS:  linux\n",
      "Python:  3.6.3 (default, Oct  3 2017, 21:45:48) \n",
      "[GCC 7.2.0]\n",
      "Tensorflow:  1.8.0\n",
      "Numpy:  1.14.3\n"
     ]
    }
   ],
   "source": [
    "import os\n",
    "import sys\n",
    "import pandas as pd\n",
    "import numpy as np \n",
    "import math\n",
    "from sklearn.preprocessing import MinMaxScaler\n",
    "from sklearn.metrics import mean_squared_error\n",
    "from sklearn.model_selection import train_test_split\n",
    "import tensorflow as tf\n",
    "\n",
    "print(\"OS: \", sys.platform)\n",
    "print(\"Python: \", sys.version)\n",
    "print(\"Tensorflow: \", tf.__version__)\n",
    "print(\"Numpy: \", np.__version__)\n",
    "\n",
    "%load_ext autoreload\n",
    "%autoreload 2"
   ]
  },
  {
   "cell_type": "markdown",
   "metadata": {
    "id": "hQFhti32AW4S"
   },
   "source": [
    "### Data"
   ]
  },
  {
   "cell_type": "code",
   "execution_count": null,
   "metadata": {
    "colab": {
     "base_uri": "https://localhost:8080/",
     "height": 208
    },
    "id": "Pi8HFO0mBkgp",
    "outputId": "a53f438f-9241-414b-b931-9925b170c524"
   },
   "outputs": [
    {
     "name": "stdout",
     "output_type": "stream",
     "text": [
      "--2018-06-15 21:55:18--  https://raw.githubusercontent.com/miguelgfierro/sciblog_support/master/Time_Series_Forecasting_of_Stock_Price/data/MSFT_2012_2017.csv\r\n",
      "Resolving raw.githubusercontent.com (raw.githubusercontent.com)... 151.101.0.133, 151.101.64.133, 151.101.128.133, ...\n",
      "Connecting to raw.githubusercontent.com (raw.githubusercontent.com)|151.101.0.133|:443... connected.\n",
      "HTTP request sent, awaiting response... 200 OK\n",
      "Length: 105688 (103K) [text/plain]\n",
      "Saving to: ‘MSFT_2012_2017.csv’\n",
      "\n",
      "MSFT_2012_2017.csv  100%[===================>] 103.21K  --.-KB/s    in 0.01s   \n",
      "\n",
      "2018-06-15 21:55:18 (7.21 MB/s) - ‘MSFT_2012_2017.csv’ saved [105688/105688]\n",
      "\n"
     ]
    }
   ],
   "source": [
    "!wget https://raw.githubusercontent.com/miguelgfierro/sciblog_support/master/Time_Series_Forecasting_of_Stock_Price/data/MSFT_2012_2017.csv"
   ]
  },
  {
   "cell_type": "code",
   "execution_count": null,
   "metadata": {
    "id": "PD7Xh-ufAW4S"
   },
   "outputs": [],
   "source": [
    "DATA = os.path.join('./', 'MSFT_2012_2017.csv')\n",
    "EPOCHS = 10\n",
    "TEST_SIZE = 0.3\n",
    "TIME_AHEAD = 1 #prediction step\n",
    "BATCH_SIZE = 1\n",
    "UNITS = 10\n",
    "SEQUENCE = 10"
   ]
  },
  {
   "cell_type": "code",
   "execution_count": null,
   "metadata": {
    "colab": {
     "base_uri": "https://localhost:8080/",
     "height": 219
    },
    "id": "MzaqWtJMAW4W",
    "outputId": "e7efbf82-d720-4ad6-b57a-01872d3747ad"
   },
   "outputs": [
    {
     "name": "stdout",
     "output_type": "stream",
     "text": [
      "(1509, 5)\n"
     ]
    },
    {
     "data": {
      "text/html": [
       "<div>\n",
       "<style scoped>\n",
       "    .dataframe tbody tr th:only-of-type {\n",
       "        vertical-align: middle;\n",
       "    }\n",
       "\n",
       "    .dataframe tbody tr th {\n",
       "        vertical-align: top;\n",
       "    }\n",
       "\n",
       "    .dataframe thead th {\n",
       "        text-align: right;\n",
       "    }\n",
       "</style>\n",
       "<table border=\"1\" class=\"dataframe\">\n",
       "  <thead>\n",
       "    <tr style=\"text-align: right;\">\n",
       "      <th></th>\n",
       "      <th>Date</th>\n",
       "      <th>Open</th>\n",
       "      <th>High</th>\n",
       "      <th>Low</th>\n",
       "      <th>Close</th>\n",
       "    </tr>\n",
       "  </thead>\n",
       "  <tbody>\n",
       "    <tr>\n",
       "      <th>0</th>\n",
       "      <td>2012-01-03</td>\n",
       "      <td>26.549999</td>\n",
       "      <td>26.959999</td>\n",
       "      <td>26.389999</td>\n",
       "      <td>26.770000</td>\n",
       "    </tr>\n",
       "    <tr>\n",
       "      <th>1</th>\n",
       "      <td>2012-01-04</td>\n",
       "      <td>26.820000</td>\n",
       "      <td>27.469999</td>\n",
       "      <td>26.780001</td>\n",
       "      <td>27.400000</td>\n",
       "    </tr>\n",
       "    <tr>\n",
       "      <th>2</th>\n",
       "      <td>2012-01-05</td>\n",
       "      <td>27.379999</td>\n",
       "      <td>27.730000</td>\n",
       "      <td>27.290001</td>\n",
       "      <td>27.680000</td>\n",
       "    </tr>\n",
       "    <tr>\n",
       "      <th>3</th>\n",
       "      <td>2012-01-06</td>\n",
       "      <td>27.530001</td>\n",
       "      <td>28.190001</td>\n",
       "      <td>27.530001</td>\n",
       "      <td>28.110001</td>\n",
       "    </tr>\n",
       "    <tr>\n",
       "      <th>4</th>\n",
       "      <td>2012-01-09</td>\n",
       "      <td>28.049999</td>\n",
       "      <td>28.100000</td>\n",
       "      <td>27.719999</td>\n",
       "      <td>27.740000</td>\n",
       "    </tr>\n",
       "  </tbody>\n",
       "</table>\n",
       "</div>"
      ],
      "text/plain": [
       "         Date       Open       High        Low      Close\n",
       "0  2012-01-03  26.549999  26.959999  26.389999  26.770000\n",
       "1  2012-01-04  26.820000  27.469999  26.780001  27.400000\n",
       "2  2012-01-05  27.379999  27.730000  27.290001  27.680000\n",
       "3  2012-01-06  27.530001  28.190001  27.530001  28.110001\n",
       "4  2012-01-09  28.049999  28.100000  27.719999  27.740000"
      ]
     },
     "execution_count": 37,
     "metadata": {
      "tags": []
     },
     "output_type": "execute_result"
    }
   ],
   "source": [
    "df = pd.read_csv(DATA)\n",
    "df = df.drop(['Adj Close', 'Volume'], axis=1)\n",
    "print(df.shape)\n",
    "df.head()"
   ]
  },
  {
   "cell_type": "code",
   "execution_count": null,
   "metadata": {
    "id": "G2GkwTejExJl"
   },
   "outputs": [],
   "source": [
    "# helper functions\n",
    "\n",
    "import matplotlib.pyplot as plt\n",
    "from IPython.display import SVG, display\n",
    "\n",
    "def plot_series(values, xlabel=None, ylabel=None, color='b', legend=None):\n",
    "    xx = np.arange(1, len(values) + 1, 1)\n",
    "    plt.plot(xx, values, color, label=legend)\n",
    "    plt.legend(loc = 'upper left')\n",
    "    plt.xlabel(xlabel)\n",
    "    plt.ylabel(ylabel)\n",
    "    plt.show()\n",
    "    \n",
    "\n",
    "def plot_series_prediction(true_values, train_predict, test_predict, time_ahead=1, title=None,\n",
    "                           xlabel=None, ylabel=None, color=['green','red','blue'], legend=[None,None,None]):    \n",
    "    TOOLS = 'pan,wheel_zoom,box_zoom,reset,save,box_select'\n",
    "    #x axis\n",
    "    xx = np.array(range(true_values.shape[0]))\n",
    "    xx1 = np.array(range(time_ahead,len(train_predict)+time_ahead))\n",
    "    xx2 = np.array(range(len(train_predict)+(time_ahead*2)+1,len(true_values)-1))\n",
    "    \n",
    "    #figure\n",
    "    plt.plot(xx, true_values.squeeze())\n",
    "    plt.plot(xx1, train_predict.squeeze())\n",
    "    plt.plot(xx2, test_predict.squeeze())\n",
    "    \n",
    "    plt.xlabel(xlabel)\n",
    "    plt.ylabel(ylabel)\n",
    "    plt.legend(['true', 'training set', 'test predict'], loc='upper left')\n",
    "    plt.show()\n",
    "\n",
    "    \n",
    "def to_1dimension(df, step_size):\n",
    "    X, y = [], []\n",
    "    for i in range(len(df)-step_size-1):\n",
    "        data = df[i:(i+step_size), 0]\n",
    "        X.append(data)\n",
    "        y.append(df[i + step_size, 0])\n",
    "    X, y = np.array(X), np.array(y)\n",
    "    X = np.reshape(X, (X.shape[0], 1, X.shape[1]))\n",
    "    return X, y"
   ]
  },
  {
   "cell_type": "code",
   "execution_count": null,
   "metadata": {
    "colab": {
     "base_uri": "https://localhost:8080/",
     "height": 379
    },
    "id": "6Kbh98XgAW4a",
    "outputId": "ee3f54d4-5d98-4bf3-8c98-6fb785588a6b"
   },
   "outputs": [
    {
     "name": "stdout",
     "output_type": "stream",
     "text": [
      "(1509,)\n"
     ]
    },
    {
     "data": {
      "image/png": "[encoded data removed]",
      "text/plain": [
       "<matplotlib.figure.Figure at 0x7f434dc34cf8>"
      ]
     },
     "metadata": {
      "tags": []
     },
     "output_type": "display_data"
    }
   ],
   "source": [
    "mean_price = df.mean(axis = 1)\n",
    "print(mean_price.shape)\n",
    "plot_series(mean_price, xlabel='Days', ylabel='Mean value of Microsoft Stock', color='b', legend='Mean price')"
   ]
  },
  {
   "cell_type": "code",
   "execution_count": null,
   "metadata": {
    "id": "sWrAoL3eAW4e"
   },
   "outputs": [],
   "source": [
    "scaler = MinMaxScaler(feature_range=(0, 1)) #other typical scale values are -1,1\n",
    "mean_price = scaler.fit_transform(np.reshape(mean_price.values, (len(mean_price),1)))"
   ]
  },
  {
   "cell_type": "code",
   "execution_count": null,
   "metadata": {
    "colab": {
     "base_uri": "https://localhost:8080/",
     "height": 52
    },
    "id": "jR7sNRKuAW4h",
    "outputId": "0268068f-e606-4834-96a3-15913d402ebd"
   },
   "outputs": [
    {
     "name": "stdout",
     "output_type": "stream",
     "text": [
      "(1056, 1)\n",
      "(453, 1)\n"
     ]
    }
   ],
   "source": [
    "train, test = train_test_split(mean_price, test_size=TEST_SIZE, shuffle=False)\n",
    "print(train.shape)\n",
    "print(test.shape)"
   ]
  },
  {
   "cell_type": "code",
   "execution_count": null,
   "metadata": {
    "colab": {
     "base_uri": "https://localhost:8080/",
     "height": 52
    },
    "id": "T1qJ-ZR0AW4l",
    "outputId": "e65da7a4-fd1a-45fb-f3b7-f70c06247935"
   },
   "outputs": [
    {
     "name": "stdout",
     "output_type": "stream",
     "text": [
      "(1054, 1, 1) (1054,)\n",
      "(451, 1, 1) (451,)\n"
     ]
    }
   ],
   "source": [
    "X_train, y_train = to_1dimension(train, TIME_AHEAD)\n",
    "X_test, y_test = to_1dimension(test, TIME_AHEAD)\n",
    "print(X_train.shape, y_train.shape)\n",
    "print(X_test.shape, y_test.shape)\n",
    "# (1054, 10, 1)-> (10,1)"
   ]
  },
  {
   "cell_type": "markdown",
   "metadata": {
    "id": "RPdxi7P-AW4q"
   },
   "source": [
    "### LSTM"
   ]
  },
  {
   "cell_type": "code",
   "execution_count": null,
   "metadata": {
    "id": "DoCJeHvOAW4r"
   },
   "outputs": [],
   "source": [
    "def create_symbol(X, model_name='LSTM', units=10, activation='linear', time_ahead=1, dropout=True):\n",
    "    # with tf.variable_scope(\"RNN\"):\n",
    "    if model_name == 'LSTM':\n",
    "        if dropout:\n",
    "            cell = tf.contrib.rnn.DropoutWrapper(\n",
    "                              # tf.contrib.rnn.BasicLSTMCell(units, forget_bias=1.0), #LSTMCell(units),\n",
    "                              tf.contrib.rnn.LSTMCell(units),\n",
    "                              output_keep_prob=0.8)\n",
    "        else:\n",
    "            cell = tf.contrib.rnn.BasicLSTMCell(units, forget_bias=1.0) #LSTMCell(units)\n",
    "        \n",
    "        outputs, states = tf.nn.dynamic_rnn(cell, X, dtype=tf.float32)\n",
    "\n",
    "    elif model_name == 'GRU':\n",
    "        cell = tf.contrib.rnn.GRUCell(units)\n",
    "        outputs, states = tf.nn.dynamic_rnn(cell, X, dtype=tf.float32)\n",
    "    else:\n",
    "        raise ValueError(\"Wrong model name\")\n",
    "    sym = tf.layers.dense(outputs[-1], 1, activation=None, name='output') #activation=None (linear activation)\n",
    "    return sym"
   ]
  },
  {
   "cell_type": "code",
   "execution_count": null,
   "metadata": {
    "colab": {
     "base_uri": "https://localhost:8080/",
     "height": 191
    },
    "id": "yBycdnCtAW4u",
    "outputId": "dbfdc57a-6fd4-4f15-f49e-d24abcc8e609"
   },
   "outputs": [
    {
     "name": "stdout",
     "output_type": "stream",
     "text": [
      "Epoch 1/10  Current loss: 6.818496331106871e-05\n",
      "Epoch 2/10  Current loss: 4.780407834914513e-05\n",
      "Epoch 3/10  Current loss: 2.394820512563456e-05\n",
      "Epoch 4/10  Current loss: 1.7207441487698816e-05\n",
      "Epoch 5/10  Current loss: 1.0099686733155977e-05\n",
      "Epoch 6/10  Current loss: 5.176257673156215e-06\n",
      "Epoch 7/10  Current loss: 3.1750994367030216e-06\n",
      "Epoch 8/10  Current loss: 2.5216079393430846e-06\n",
      "Epoch 9/10  Current loss: 2.396187710473896e-06\n",
      "Epoch 10/10  Current loss: 2.4966823275462957e-06\n"
     ]
    }
   ],
   "source": [
    "tf.reset_default_graph()\n",
    "\n",
    "# Place-holders\n",
    "X = tf.placeholder(tf.float32, shape=[None, 1, TIME_AHEAD])\n",
    "y = tf.placeholder(tf.float32, shape=[None])\n",
    "\n",
    "# with sess.as_default():\n",
    "sym = create_symbol(X, model_name='LSTM', units=UNITS, time_ahead=TIME_AHEAD, dropout=False)\n",
    "loss = tf.reduce_mean(tf.squared_difference(sym, y)) #mse\n",
    "optimizer = tf.train.AdamOptimizer()\n",
    "model = optimizer.minimize(loss)\n",
    "\n",
    "init = tf.global_variables_initializer()\n",
    "sess = tf.Session()\n",
    "sess.run(init)\n",
    "\n",
    "# training\n",
    "for i in range(EPOCHS):\n",
    "    ii = 0\n",
    "    while(ii + BATCH_SIZE) <= len(X_train):\n",
    "        X_batch = X_train[ii:ii+BATCH_SIZE,:,:]\n",
    "        y_batch = y_train[ii:ii+BATCH_SIZE]\n",
    "        sess.run(model, feed_dict={X:X_batch, y:y_batch})\n",
    "        ii += BATCH_SIZE\n",
    "    loss_train = sess.run(loss, feed_dict={X: X_batch, y: y_batch})\n",
    "    print('Epoch {}/{}'.format(i+1, EPOCHS), ' Current loss: {}'.format(loss_train))\n",
    "\n",
    "y_guess = np.zeros(y_test.shape[0], dtype=np.float32)\n",
    "ii = 0\n",
    "while(ii + BATCH_SIZE) <= len(X_test):\n",
    "    X_batch = X_test[ii:ii+BATCH_SIZE,:,:]\n",
    "    output = sess.run(sym, feed_dict={X:X_batch})\n",
    "    y_guess[ii:ii+BATCH_SIZE] = output\n",
    "    ii += BATCH_SIZE"
   ]
  },
  {
   "cell_type": "code",
   "execution_count": null,
   "metadata": {
    "colab": {
     "base_uri": "https://localhost:8080/",
     "height": 35
    },
    "id": "cYDjC1Y7AW48",
    "outputId": "78f8e9c3-9695-4488-e172-ddb2c86d3ac3"
   },
   "outputs": [
    {
     "name": "stdout",
     "output_type": "stream",
     "text": [
      "Test RMSE: 3.05\n"
     ]
    }
   ],
   "source": [
    "y_test_inv = scaler.inverse_transform([y_test])\n",
    "pred_test = scaler.inverse_transform([y_guess])\n",
    "score = math.sqrt(mean_squared_error(y_test_inv, pred_test))\n",
    "print('Test RMSE: %.2f' % (score))"
   ]
  },
  {
   "cell_type": "code",
   "execution_count": null,
   "metadata": {
    "colab": {
     "base_uri": "https://localhost:8080/",
     "height": 361
    },
    "id": "jAIVdo0hAW5A",
    "outputId": "2f0fba03-1a2d-4a31-e5bb-67057e9a39f4"
   },
   "outputs": [
    {
     "data": {
      "image/png": "[encoded data removed]",
      "text/plain": [
       "<matplotlib.figure.Figure at 0x7f43452fa0b8>"
      ]
     },
     "metadata": {
      "tags": []
     },
     "output_type": "display_data"
    }
   ],
   "source": [
    "mean_price_inv = scaler.inverse_transform(mean_price)\n",
    "train_set = mean_price_inv[:X_train.shape[0]]\n",
    "plot_series_prediction(mean_price_inv, train_set, pred_test.T, time_ahead=TIME_AHEAD,\n",
    "                       title='LSTM prediction', xlabel='Days', ylabel='Value of Microsoft Stock', \n",
    "                       legend=['True value','Training set','Test prediction'])"
   ]
  },
  {
   "cell_type": "code",
   "execution_count": null,
   "metadata": {
    "id": "s1YjmWHSAW5G"
   },
   "outputs": [],
   "source": []
  },
  {
   "cell_type": "code",
   "execution_count": null,
   "metadata": {
    "id": "SceUC08RYYqL"
   },
   "outputs": [],
   "source": []
  },
  {
   "cell_type": "code",
   "execution_count": null,
   "metadata": {
    "id": "Yv7w7Y75kxPH"
   },
   "outputs": [],
   "source": []
  }
 ],
 "metadata": {
  "accelerator": "GPU",
  "colab": {
   "collapsed_sections": [],
   "name": "Copy of stock_price_forecast.ipynb",
   "provenance": []
  },
  "kernelspec": {
   "display_name": "Python 3",
   "language": "python",
   "name": "python3"
  },
  "language_info": {
   "codemirror_mode": {
    "name": "ipython",
    "version": 3
   },
   "file_extension": ".py",
   "mimetype": "text/x-python",
   "name": "python",
   "nbconvert_exporter": "python",
   "pygments_lexer": "ipython3",
   "version": "3.8.3"
  }
 },
 "nbformat": 4,
 "nbformat_minor": 1
}
